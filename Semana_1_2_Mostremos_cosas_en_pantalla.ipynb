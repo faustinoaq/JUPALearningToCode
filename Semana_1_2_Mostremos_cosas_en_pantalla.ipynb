{
  "nbformat": 4,
  "nbformat_minor": 0,
  "metadata": {
    "colab": {
      "name": "Semana_1.2_Mostremos cosas en pantalla.ipynb",
      "provenance": [],
      "collapsed_sections": []
    },
    "kernelspec": {
      "name": "python3",
      "display_name": "Python 3"
    },
    "language_info": {
      "name": "python"
    }
  },
  "cells": [
    {
      "cell_type": "markdown",
      "metadata": {
        "id": "_ti4LOfKU8i3"
      },
      "source": [
        "![Data Science Black@300x.png](https://i.imgur.com/eJKkh5m.png)\n",
        "\n",
        "# ¡Bienvenidos al taller \"Learning to Code with Dell Technologies\"!\n",
        "\n",
        "En este \"notebook\" vamos a continuar aprendiendo mas a detalle como mostrar cosas en pantalla con Python.\n",
        "\n",
        "## ¿Mostrar cosas en Pantalla?\n",
        "\n",
        "Si, con Python puedes darle forma a lo que quieras, puedes hacer textos, imagenes, sonidos, emojis, etc\n",
        "\n",
        "La forma mas facil de imprimir en pantalla es utilizando la instruccion \"print\""
      ]
    },
    {
      "cell_type": "code",
      "metadata": {
        "id": "8RxETi38rmBZ",
        "colab": {
          "base_uri": "https://localhost:8080/"
        },
        "outputId": "a38ac230-bafc-4804-fb1a-d64fa22ce864"
      },
      "source": [
        "print(\"Me siento muy bien hoy 😊\")"
      ],
      "execution_count": null,
      "outputs": [
        {
          "output_type": "stream",
          "name": "stdout",
          "text": [
            "Me siento muy bien hoy 😊\n"
          ]
        }
      ]
    },
    {
      "cell_type": "markdown",
      "metadata": {
        "id": "Y0tgrjhzHPUr"
      },
      "source": [
        "## Almacenando simples variables\n",
        "\n",
        "En este segmento tambien daremos una breve utilización de variables que explicaremos en las próximas clases mas a detalle.\n",
        "\n",
        "\n",
        "Una variable es una simple manera de almacenar un tipo de dato en Python.\n",
        "\n",
        "Las variables, son nombres que puedes asignar a tu código para utilizarlo mas adelante:"
      ]
    },
    {
      "cell_type": "code",
      "metadata": {
        "id": "tvjeQ1BgHgOT"
      },
      "source": [
        "a = 1"
      ],
      "execution_count": null,
      "outputs": []
    },
    {
      "cell_type": "code",
      "metadata": {
        "colab": {
          "base_uri": "https://localhost:8080/"
        },
        "id": "LcQSzJN5H-VM",
        "outputId": "1f8ccf36-3c09-482a-d465-f9c24ac37e1c"
      },
      "source": [
        "a"
      ],
      "execution_count": null,
      "outputs": [
        {
          "output_type": "execute_result",
          "data": {
            "text/plain": [
              "1"
            ]
          },
          "metadata": {},
          "execution_count": 7
        }
      ]
    },
    {
      "cell_type": "markdown",
      "metadata": {
        "id": "mw9pIO53Hlts"
      },
      "source": [
        "# Ejecutando operaciones con tipos de datos\n",
        "\n",
        "Los tipos de datos en Python permiten ejecutar operaciones entre ellos.\n",
        "\n",
        "Puedes realizar por ejemplo con los enteros operaciones básicas que podrias ejecutar en una calculadora."
      ]
    },
    {
      "cell_type": "code",
      "metadata": {
        "colab": {
          "base_uri": "https://localhost:8080/"
        },
        "id": "TQ4NMSPVImEO",
        "outputId": "3aca7005-9ca1-43e5-e708-190e1dbb59a9"
      },
      "source": [
        "1+1"
      ],
      "execution_count": null,
      "outputs": [
        {
          "output_type": "execute_result",
          "data": {
            "text/plain": [
              "2"
            ]
          },
          "metadata": {},
          "execution_count": 8
        }
      ]
    },
    {
      "cell_type": "code",
      "metadata": {
        "colab": {
          "base_uri": "https://localhost:8080/"
        },
        "id": "AtTNks5EIm91",
        "outputId": "3116c2e8-654e-430c-f647-610802da8f74"
      },
      "source": [
        "2-1"
      ],
      "execution_count": null,
      "outputs": [
        {
          "output_type": "execute_result",
          "data": {
            "text/plain": [
              "1"
            ]
          },
          "metadata": {},
          "execution_count": 9
        }
      ]
    },
    {
      "cell_type": "code",
      "metadata": {
        "colab": {
          "base_uri": "https://localhost:8080/"
        },
        "id": "sOX4s5zXInwp",
        "outputId": "17582a36-c263-4528-e3f8-cd532cff2908"
      },
      "source": [
        "2*2"
      ],
      "execution_count": null,
      "outputs": [
        {
          "output_type": "execute_result",
          "data": {
            "text/plain": [
              "4"
            ]
          },
          "metadata": {},
          "execution_count": 10
        }
      ]
    },
    {
      "cell_type": "code",
      "metadata": {
        "colab": {
          "base_uri": "https://localhost:8080/"
        },
        "id": "06vrOkYqIpr9",
        "outputId": "ea2dd250-4657-4623-cf15-263955664355"
      },
      "source": [
        "4/2"
      ],
      "execution_count": null,
      "outputs": [
        {
          "output_type": "execute_result",
          "data": {
            "text/plain": [
              "2.0"
            ]
          },
          "metadata": {},
          "execution_count": 11
        }
      ]
    },
    {
      "cell_type": "markdown",
      "metadata": {
        "id": "5Yte27QtIs7l"
      },
      "source": [
        "Tambien en Python nos puestra si nuestra operacion esta incorrecta, por ejemplo nos muestra un error si nuestra division es entre 0:"
      ]
    },
    {
      "cell_type": "code",
      "metadata": {
        "colab": {
          "base_uri": "https://localhost:8080/",
          "height": 163
        },
        "id": "iky0wlziIq3l",
        "outputId": "c0903d00-d485-4176-ac5d-41efdd35c55d"
      },
      "source": [
        "1/0"
      ],
      "execution_count": null,
      "outputs": [
        {
          "output_type": "error",
          "ename": "ZeroDivisionError",
          "evalue": "ignored",
          "traceback": [
            "\u001b[0;31m---------------------------------------------------------------------------\u001b[0m",
            "\u001b[0;31mZeroDivisionError\u001b[0m                         Traceback (most recent call last)",
            "\u001b[0;32m<ipython-input-12-9e1622b385b6>\u001b[0m in \u001b[0;36m<module>\u001b[0;34m()\u001b[0m\n\u001b[0;32m----> 1\u001b[0;31m \u001b[0;36m1\u001b[0m\u001b[0;34m/\u001b[0m\u001b[0;36m0\u001b[0m\u001b[0;34m\u001b[0m\u001b[0;34m\u001b[0m\u001b[0m\n\u001b[0m",
            "\u001b[0;31mZeroDivisionError\u001b[0m: division by zero"
          ]
        }
      ]
    },
    {
      "cell_type": "markdown",
      "metadata": {
        "id": "f2Us6be_I5b1"
      },
      "source": [
        "Adicionalmente operaciones similares pueden realizarse entre otros tipos de datos, como cadena.\n",
        "\n",
        "La operacion que realizamos comunmente con las cadenas es la concatenacion, que realizamos utilizando el símbolo de +"
      ]
    },
    {
      "cell_type": "code",
      "metadata": {
        "colab": {
          "base_uri": "https://localhost:8080/",
          "height": 35
        },
        "id": "lMUtlp1qIyLV",
        "outputId": "8014029a-99f8-4dd2-da48-4345bec48e67"
      },
      "source": [
        "'Esta es una cadena' +  ' y le agrego otra cadena'"
      ],
      "execution_count": null,
      "outputs": [
        {
          "output_type": "execute_result",
          "data": {
            "application/vnd.google.colaboratory.intrinsic+json": {
              "type": "string"
            },
            "text/plain": [
              "'Esta es una cadena y le agrego otra cadena'"
            ]
          },
          "metadata": {},
          "execution_count": 13
        }
      ]
    },
    {
      "cell_type": "markdown",
      "metadata": {
        "id": "_4E9tNriJPgm"
      },
      "source": [
        "Python es bien versatil y nos permite utilizar multiples tipos de datos para acorar los procesos de ejecucion, por ejemplo podemos multiplicar una cadena por un numero y tenerla varias veces:"
      ]
    },
    {
      "cell_type": "code",
      "metadata": {
        "colab": {
          "base_uri": "https://localhost:8080/",
          "height": 35
        },
        "id": "VpyurL4oJYOe",
        "outputId": "386ad691-654f-44c5-80a8-0f63edaaacfb"
      },
      "source": [
        "'Batman! '* 5"
      ],
      "execution_count": null,
      "outputs": [
        {
          "output_type": "execute_result",
          "data": {
            "application/vnd.google.colaboratory.intrinsic+json": {
              "type": "string"
            },
            "text/plain": [
              "'Batman! Batman! Batman! Batman! Batman! '"
            ]
          },
          "metadata": {},
          "execution_count": 15
        }
      ]
    },
    {
      "cell_type": "markdown",
      "metadata": {
        "id": "wD33Ic5dJljY"
      },
      "source": [
        "Sin embargo si intentamos sumar un tipo de dato cadena con un numero nos dará un error ya que tenemos que asegurarnos que al concatenar el tipo de dato se el mismo:"
      ]
    },
    {
      "cell_type": "code",
      "metadata": {
        "colab": {
          "base_uri": "https://localhost:8080/",
          "height": 163
        },
        "id": "yV05qZhiJgz_",
        "outputId": "a73d235d-9caf-4adc-9bf0-92351a3b5469"
      },
      "source": [
        "'Batman!' + 5"
      ],
      "execution_count": null,
      "outputs": [
        {
          "output_type": "error",
          "ename": "TypeError",
          "evalue": "ignored",
          "traceback": [
            "\u001b[0;31m---------------------------------------------------------------------------\u001b[0m",
            "\u001b[0;31mTypeError\u001b[0m                                 Traceback (most recent call last)",
            "\u001b[0;32m<ipython-input-16-e4422f7f2d4e>\u001b[0m in \u001b[0;36m<module>\u001b[0;34m()\u001b[0m\n\u001b[0;32m----> 1\u001b[0;31m \u001b[0;34m'Batman!'\u001b[0m \u001b[0;34m+\u001b[0m \u001b[0;36m5\u001b[0m\u001b[0;34m\u001b[0m\u001b[0;34m\u001b[0m\u001b[0m\n\u001b[0m",
            "\u001b[0;31mTypeError\u001b[0m: can only concatenate str (not \"int\") to str"
          ]
        }
      ]
    },
    {
      "cell_type": "code",
      "metadata": {
        "colab": {
          "base_uri": "https://localhost:8080/",
          "height": 35
        },
        "id": "Kmy46r9_Jxow",
        "outputId": "0fce586b-ead5-4a64-990a-f4d350e89465"
      },
      "source": [
        "'Batman!' + '5'"
      ],
      "execution_count": null,
      "outputs": [
        {
          "output_type": "execute_result",
          "data": {
            "application/vnd.google.colaboratory.intrinsic+json": {
              "type": "string"
            },
            "text/plain": [
              "'Batman!5'"
            ]
          },
          "metadata": {},
          "execution_count": 17
        }
      ]
    },
    {
      "cell_type": "markdown",
      "metadata": {
        "id": "LcouuaFZUjfu"
      },
      "source": [
        "# Ejecucion de programas con Entradas\n",
        "\n",
        "En este entorno de progracion, puedes interactuar con lo que escribes.\n",
        "\n",
        "Darle datos a tu creacion y ver los resultados."
      ]
    },
    {
      "cell_type": "code",
      "metadata": {
        "id": "yfY6M_HGUi83",
        "colab": {
          "base_uri": "https://localhost:8080/"
        },
        "outputId": "429f7223-0949-4680-f101-a1661f7e090b"
      },
      "source": [
        "# Mi primer programa dice hola y pregunta por tu nombre\n",
        "\n",
        "print('Hola Mundo!')\n",
        "print('¿Cual es tu nombre?')\n",
        "mi_nombre = input()  \n",
        "print('Es un placer conocerte, ' + mi_nombre)\n",
        "print('Tu nombre tiene ',len(mi_nombre),' letras')\n",
        "\n",
        "print('¿Cual es tu edad?')\n",
        "mi_edad = input()\n",
        "print('Tendras ' + str(int(mi_edad)+1) + ' el proximo año')\n",
        "\n"
      ],
      "execution_count": null,
      "outputs": [
        {
          "output_type": "stream",
          "name": "stdout",
          "text": [
            "Hola Mundo!\n",
            "¿Cual es tu nombre?\n",
            "Faustino\n",
            "Es un placer conocerte, Faustino\n",
            "Tu nombre tiene  8  letras\n",
            "¿Cual es tu edad?\n",
            "18\n",
            "Tendras 19 el proximo año\n"
          ]
        }
      ]
    },
    {
      "cell_type": "markdown",
      "metadata": {
        "id": "WDxdssAxXByY"
      },
      "source": [
        "# Mostrando los tipos de datos\n",
        "\n",
        "Como ya mencionamos Python reconoce distintos tipos de datos. Por ejemplo, números enteros, números con decimales, booleano (es cuando el resultado es cero o uno), textos, fechas, listas, diccionarios, y archivos.\n",
        "\n",
        "Por ejemplo:\n",
        "*   Enteros o *integers*: -1, 0, 1\n",
        "*   Flotantes o *floats*: -1.3, 0.005, 1.333333\n",
        "*   Booleanos o *booleans*: 1, 0, True, False\n",
        "*   Listas o *lists*: [1, \"dos\", 3, 4.1]\n",
        "*   Textos o *strings*: \"2\", 'hola', \"Él dijo que 'compraría' la cena.\"\n",
        "\n",
        "Los *strings* pueden ser delimitados por:<br>\n",
        "*   ' ' apóstrofe sencilla\n",
        "*   \" \" comilla sencilla<br>\n",
        "*   ''' '''triple apóstrofe<br>\n",
        "*   \"\"\" \"\"\" triple comilla\n",
        "\n",
        "Además, los *strings* son inmutables; es decir, que no cambian por si solos, pero los operadores (in, +, y **)* y funciones (*len*, *min*, y *max*) pueden dar un nuevo *string* a partir del original."
      ]
    },
    {
      "cell_type": "code",
      "metadata": {
        "id": "SII-PEKr8tCZ",
        "colab": {
          "base_uri": "https://localhost:8080/"
        },
        "outputId": "63f2ec83-4f6e-42b2-b6ef-50c711192ffb"
      },
      "source": [
        "# Ejemplo un texto con tab \\t (este símbolo significa tabulación o espaciado y es utilizado en diversos lenguajes para \n",
        "# indicarle a la computadora cuando un texto lleva un espaciado similar al apretar la tecla Tab)\n",
        "# Definamos una variable x con algún texto\n",
        "x = \"Soy fan de las películas de \\t  \\tDC\"\n",
        "print(x) # Utilizamos la función print para imprimir o mostrar un resultado. En este caso, mostramos el contenido de la variable x\n",
        "\n",
        "# ¡Muy bien! Ahora usemos la funcion split para separar el contenido de la variable x \n",
        "y = x.split()\n",
        "print(y)"
      ],
      "execution_count": null,
      "outputs": [
        {
          "output_type": "stream",
          "text": [
            "Soy fan de las películas de \t  \tDC\n",
            "['Soy', 'fan', 'de', 'las', 'películas', 'de', 'DC']\n"
          ],
          "name": "stdout"
        }
      ]
    },
    {
      "cell_type": "code",
      "metadata": {
        "colab": {
          "base_uri": "https://localhost:8080/"
        },
        "id": "FLp8mtR2e01e",
        "outputId": "e3b20b9f-71e0-489c-bf16-690f2da8d056"
      },
      "source": [
        "# ¡Muy bien! Ahora usemos la funcion split con un parámetro para que separe la oración que tenga \\t\n",
        "y = x.split(\"\\t\")\n",
        "print(y)"
      ],
      "execution_count": null,
      "outputs": [
        {
          "output_type": "stream",
          "text": [
            "['Soy fan de las películas de ', '  ', 'DC']\n"
          ],
          "name": "stdout"
        }
      ]
    },
    {
      "cell_type": "markdown",
      "metadata": {
        "id": "TR7r-HaUfLSD"
      },
      "source": [
        "Ejercicio 1\n",
        "1. Define una variable z con el siguiente texto \"Sol, playa, nubes, mar y arena\"\n",
        "2. Separa ese texto por commas \",\"\n",
        "¿Cuál es el resultado?"
      ]
    },
    {
      "cell_type": "code",
      "metadata": {
        "id": "iKGvgItmfIci",
        "colab": {
          "base_uri": "https://localhost:8080/"
        },
        "outputId": "470d156b-b552-4934-9080-dc0926a6a915"
      },
      "source": [
        "# Ejercicio 1\n",
        "# Define una variable z\n",
        "z = \"Pablofueala fiesta\"\n",
        "# Separa ese texto por commas \",\"\n",
        "z.split()\n",
        "# ¿Cuál es el resultado? Recuerda colocar la variable que deseas imprimir o mostrar\n",
        "#print(w)"
      ],
      "execution_count": null,
      "outputs": [
        {
          "output_type": "execute_result",
          "data": {
            "text/plain": [
              "['Pablofueala', 'fiesta']"
            ]
          },
          "metadata": {
            "tags": []
          },
          "execution_count": 13
        }
      ]
    },
    {
      "cell_type": "code",
      "metadata": {
        "colab": {
          "base_uri": "https://localhost:8080/",
          "height": 35
        },
        "id": "DQ84Kb8nGKqp",
        "outputId": "b102d506-e9f1-4484-e483-51ba77b804c5"
      },
      "source": [
        "# Ahora reemplacemos la última frase de la variable x\n",
        "x.replace(\"\\t  \\tDC\", \"Marvel\")\n",
        "# Usamos la funcion replace para reemplazar el primer parámetro con el segundo parámetro de la función"
      ],
      "execution_count": null,
      "outputs": [
        {
          "output_type": "execute_result",
          "data": {
            "application/vnd.google.colaboratory.intrinsic+json": {
              "type": "string"
            },
            "text/plain": [
              "'Soy fan de las películas de Marvel'"
            ]
          },
          "metadata": {
            "tags": []
          },
          "execution_count": 12
        }
      ]
    },
    {
      "cell_type": "markdown",
      "metadata": {
        "id": "69hvYKGSgbbh"
      },
      "source": [
        "Ejercicio 2\n",
        "1. Define una variable cualquiera\n",
        "2. Agregale un texto cualquiera\n",
        "3. Reemplázalo con la función .replace()\n",
        "4. Imprime o muestra el resultado"
      ]
    },
    {
      "cell_type": "code",
      "metadata": {
        "id": "7aI0cL4RkWv_",
        "colab": {
          "base_uri": "https://localhost:8080/",
          "height": 35
        },
        "outputId": "fd0c465b-0d5b-4baa-9f91-c3f269e003e6"
      },
      "source": [
        "# Ejercicio 2\n",
        "# Define una variable cualquiera\n",
        "z = \"Pablo fue a la fiesta\"\n",
        "\n",
        "# Agregale un texto cualquiera\n",
        "w = 'Juan'\n",
        "\n",
        "# Reemplázalo con la función .replace()\n",
        "z.replace('Pablo', 'Toretto')\n",
        "\n",
        "# Imprime o muestra el resultado"
      ],
      "execution_count": null,
      "outputs": [
        {
          "output_type": "execute_result",
          "data": {
            "application/vnd.google.colaboratory.intrinsic+json": {
              "type": "string"
            },
            "text/plain": [
              "'Toretto fue a la fiesta'"
            ]
          },
          "metadata": {
            "tags": []
          },
          "execution_count": 15
        }
      ]
    },
    {
      "cell_type": "code",
      "metadata": {
        "colab": {
          "base_uri": "https://localhost:8080/"
        },
        "id": "7YYO9ufKN20P",
        "outputId": "22729b36-e4ff-4290-869e-ce90fb5c9f52"
      },
      "source": [
        "# ¿Qué pasa si sumamos un texto? Obtendremos un error porque necesitamos colocar las comillas.\n",
        "texto1 = 'agua'\n",
        "texto2 = \"cate\"\n",
        "texto3 = \"!\"\n",
        "print(texto1 + texto2+ texto3)"
      ],
      "execution_count": null,
      "outputs": [
        {
          "output_type": "stream",
          "text": [
            "aguacate!\n"
          ],
          "name": "stdout"
        }
      ]
    },
    {
      "cell_type": "code",
      "metadata": {
        "colab": {
          "base_uri": "https://localhost:8080/"
        },
        "id": "keey0pjROJMZ",
        "outputId": "0416d4d4-a420-44e8-b0e9-6b71b9029b39"
      },
      "source": [
        "# Notemos que si no colocamos las comillas o apóstrofes, entonces Python interpreta que es un objeto variable no definida.\n",
        "# Sin embargo, al sumar textos, se pondran uno al lado del otro. Ejemplo: agua + cate = aguacate\n",
        "texto1 = \"agua\"\n",
        "texto2 = \"cate\"\n",
        "\n",
        "print(\"El resultado de estas variables de tipo texto es: \", texto1 + texto2)"
      ],
      "execution_count": null,
      "outputs": [
        {
          "output_type": "stream",
          "text": [
            "El resultado de estas variables de tipo texto es:  aguacate\n"
          ],
          "name": "stdout"
        }
      ]
    },
    {
      "cell_type": "code",
      "metadata": {
        "colab": {
          "base_uri": "https://localhost:8080/",
          "height": 183
        },
        "id": "Ny6bL1v7O1rF",
        "outputId": "5644fba9-85b9-4025-e3c4-bff0b83a0dfc"
      },
      "source": [
        "# Pero multiplicar dos variables de tipo texto resultará en error porque esta es una operacion numerica.\n",
        "print(texto1 * texto2)"
      ],
      "execution_count": null,
      "outputs": [
        {
          "output_type": "error",
          "ename": "TypeError",
          "evalue": "ignored",
          "traceback": [
            "\u001b[0;31m---------------------------------------------------------------------------\u001b[0m",
            "\u001b[0;31mTypeError\u001b[0m                                 Traceback (most recent call last)",
            "\u001b[0;32m<ipython-input-20-b8ae6faa3ad3>\u001b[0m in \u001b[0;36m<module>\u001b[0;34m()\u001b[0m\n\u001b[1;32m      1\u001b[0m \u001b[0;31m# Pero multiplicar dos variables de tipo texto resultará en error porque esta es una operacion numerica.\u001b[0m\u001b[0;34m\u001b[0m\u001b[0;34m\u001b[0m\u001b[0;34m\u001b[0m\u001b[0m\n\u001b[0;32m----> 2\u001b[0;31m \u001b[0mprint\u001b[0m\u001b[0;34m(\u001b[0m\u001b[0mtexto1\u001b[0m \u001b[0;34m*\u001b[0m \u001b[0mtexto2\u001b[0m\u001b[0;34m)\u001b[0m\u001b[0;34m\u001b[0m\u001b[0;34m\u001b[0m\u001b[0m\n\u001b[0m",
            "\u001b[0;31mTypeError\u001b[0m: can't multiply sequence by non-int of type 'str'"
          ]
        }
      ]
    },
    {
      "cell_type": "code",
      "metadata": {
        "colab": {
          "base_uri": "https://localhost:8080/"
        },
        "id": "ehEr5PCEO7vD",
        "outputId": "c046852a-5a52-4f02-b83e-dac7638e6ad1"
      },
      "source": [
        "# Sin embargo, sí podemos multiplicar un texto por un número, lo cual repetira el texto tantas veces como tengamos el numero.\n",
        "print(texto1 * 5)"
      ],
      "execution_count": null,
      "outputs": [
        {
          "output_type": "stream",
          "text": [
            "aguaaguaaguaaguaagua\n"
          ],
          "name": "stdout"
        }
      ]
    },
    {
      "cell_type": "code",
      "metadata": {
        "colab": {
          "base_uri": "https://localhost:8080/"
        },
        "id": "IAKPPnczP8m9",
        "outputId": "3f262637-c4cf-43a2-972e-165f158184cc"
      },
      "source": [
        "# Veamos cuántos caracteres tiene la variable texto1\n",
        "print(len(texto1))\n",
        "print(texto1.upper())\n",
        "print(texto1.lower())"
      ],
      "execution_count": null,
      "outputs": [
        {
          "output_type": "stream",
          "text": [
            "4\n",
            "AGUA\n",
            "agua\n"
          ],
          "name": "stdout"
        }
      ]
    },
    {
      "cell_type": "code",
      "metadata": {
        "colab": {
          "base_uri": "https://localhost:8080/"
        },
        "id": "lSrokIRuQFpZ",
        "outputId": "cb4ee660-8d14-4074-b792-4871d2b81d6f"
      },
      "source": [
        "# Veamos cómo maneja Python los caracteres con las funciones len, min, y max\n",
        "texto = \"amARillo1\"\n",
        "\n",
        "print(texto)\n",
        "print(\"Cantidad de caracteres: \", len(texto))\n",
        "print(\"Caracter con valor más bajo: \", min(texto))\n",
        "print(\"Caracter con valor más alto: \", max(texto))"
      ],
      "execution_count": null,
      "outputs": [
        {
          "output_type": "stream",
          "text": [
            "amARillo1\n",
            "Cantidad de caracteres:  9\n",
            "Caracter con valor más bajo:  1\n",
            "Caracter con valor más alto:  o\n"
          ],
          "name": "stdout"
        }
      ]
    },
    {
      "cell_type": "code",
      "metadata": {
        "colab": {
          "base_uri": "https://localhost:8080/"
        },
        "id": "27yBzDm_Sp_l",
        "outputId": "e0fbc2e3-3de1-49f7-8a07-5c45cd0abfe1"
      },
      "source": [
        "# Veamos cómo maneja Python los caracteres con las funciones len, min, y max\n",
        "texto = \"verde\"\n",
        "\n",
        "print(texto)\n",
        "print(\"Cantidad de caracteres: \", len(texto))\n",
        "print(\"Caracter con valor más bajo: \", min(texto))\n",
        "print(\"Caracter con valor más alto: \", max(texto))"
      ],
      "execution_count": null,
      "outputs": [
        {
          "output_type": "stream",
          "text": [
            "verde\n",
            "Cantidad de caracteres:  5\n",
            "Caracter con valor más bajo:  d\n",
            "Caracter con valor más alto:  v\n"
          ],
          "name": "stdout"
        }
      ]
    },
    {
      "cell_type": "code",
      "metadata": {
        "colab": {
          "base_uri": "https://localhost:8080/"
        },
        "id": "8NSwyiqqS5Tn",
        "outputId": "4b96fd89-9b18-426c-c4c1-e8077042a525"
      },
      "source": [
        "# Veamos cómo maneja Python los caracteres con las funciones len, min, y max\n",
        "texto = \"amarIllo\".upper()\n",
        "\n",
        "print(texto)\n",
        "print(\"Cantidad de caracteres: \", len(texto))\n",
        "print(\"Caracter con valor más bajo: \", min(texto))\n",
        "print(\"Caracter con valor más alto: \", max(texto))"
      ],
      "execution_count": null,
      "outputs": [
        {
          "output_type": "stream",
          "text": [
            "AMARILLO\n",
            "Cantidad de caracteres:  8\n",
            "Caracter con valor más bajo:  A\n",
            "Caracter con valor más alto:  R\n"
          ],
          "name": "stdout"
        }
      ]
    },
    {
      "cell_type": "markdown",
      "metadata": {
        "id": "Vib3R2BUHyBv"
      },
      "source": [
        "Otros tipos de datos pueden ser convertidos en texto e incluso le podemos dar el formato que deseemos. Veamos el siguiente ejemplo."
      ]
    },
    {
      "cell_type": "code",
      "metadata": {
        "colab": {
          "base_uri": "https://localhost:8080/"
        },
        "id": "d987g715Hwe9",
        "outputId": "ccc3850c-2d3c-471e-e09d-d1e18c3b0d8c"
      },
      "source": [
        "# Definamos las siguientes variables \n",
        "e = 2.718125\n",
        "z = [1, \"dos\", 3, 4.0, [\"A\", \"b\"]]\n",
        "\n",
        "print(\"La constante e es: \", e, \" y la lista z es: \", z)"
      ],
      "execution_count": null,
      "outputs": [
        {
          "output_type": "stream",
          "text": [
            "La constante e es:  2.718125  y la lista z es:  [1, 'dos', 3, 4.0, ['A', 'b']]\n"
          ],
          "name": "stdout"
        }
      ]
    },
    {
      "cell_type": "code",
      "metadata": {
        "colab": {
          "base_uri": "https://localhost:8080/"
        },
        "id": "mXtvO-i_JD_0",
        "outputId": "b9da586c-8da5-4107-917b-963fc41b64bb"
      },
      "source": [
        "# Sin embargo, en Python, generalmente hay varias maneras de llegar al mismo resultado\n",
        "print(\"La constante e es: {:.3f} y la lista z es: {}\".format(e, z[-2]))"
      ],
      "execution_count": null,
      "outputs": [
        {
          "output_type": "stream",
          "text": [
            "La constante e es: 2.718 y la lista z es: 4.0\n"
          ],
          "name": "stdout"
        }
      ]
    },
    {
      "cell_type": "code",
      "metadata": {
        "colab": {
          "base_uri": "https://localhost:8080/",
          "height": 183
        },
        "id": "wa0D2cSpLBJx",
        "outputId": "da59e59c-0f12-45d3-b2c3-4515b3cf7ff4"
      },
      "source": [
        "# Notemos que en este ejemplo no cambiamos la variable, sino que seleccionamos un valor de la lista y modificamos el formato\n",
        "print(\"La constante e es: {:.2f} y la lista z es: {:.4f}\".format(e, z[1]))"
      ],
      "execution_count": null,
      "outputs": [
        {
          "output_type": "error",
          "ename": "ValueError",
          "evalue": "ignored",
          "traceback": [
            "\u001b[0;31m---------------------------------------------------------------------------\u001b[0m",
            "\u001b[0;31mValueError\u001b[0m                                Traceback (most recent call last)",
            "\u001b[0;32m<ipython-input-38-671947942f79>\u001b[0m in \u001b[0;36m<module>\u001b[0;34m()\u001b[0m\n\u001b[1;32m      1\u001b[0m \u001b[0;31m# Notemos que en este ejemplo no cambiamos la variable, sino que seleccionamos un valor de la lista y modificamos el formato\u001b[0m\u001b[0;34m\u001b[0m\u001b[0;34m\u001b[0m\u001b[0;34m\u001b[0m\u001b[0m\n\u001b[0;32m----> 2\u001b[0;31m \u001b[0mprint\u001b[0m\u001b[0;34m(\u001b[0m\u001b[0;34m\"La constante e es: {:.2f} y la lista z es: {:.4f}\"\u001b[0m\u001b[0;34m.\u001b[0m\u001b[0mformat\u001b[0m\u001b[0;34m(\u001b[0m\u001b[0me\u001b[0m\u001b[0;34m,\u001b[0m \u001b[0mz\u001b[0m\u001b[0;34m[\u001b[0m\u001b[0;36m1\u001b[0m\u001b[0;34m]\u001b[0m\u001b[0;34m)\u001b[0m\u001b[0;34m)\u001b[0m\u001b[0;34m\u001b[0m\u001b[0;34m\u001b[0m\u001b[0m\n\u001b[0m",
            "\u001b[0;31mValueError\u001b[0m: Unknown format code 'f' for object of type 'str'"
          ]
        }
      ]
    },
    {
      "cell_type": "markdown",
      "metadata": {
        "id": "jc-TcC-dUGtO"
      },
      "source": [
        "¡Felicidades!\n",
        "\n",
        "Hemos concluido con la lección de hoy, así que regresemos a la presentación para ver el resumen."
      ]
    },
    {
      "cell_type": "markdown",
      "metadata": {
        "id": "7yuZYFTJPLg1"
      },
      "source": [
        "# Talleres\n",
        "\n",
        "Ahora pondremos este conocimiento en practica y veremos algunos ejercicios juntos en Python e interactuaremos con el entorno:"
      ]
    },
    {
      "cell_type": "markdown",
      "metadata": {
        "id": "BY8Ckh6b_LpJ"
      },
      "source": [
        "1. Escribe un programa en Python para imprimir la siguiente cadena en un formato específico (ver la salida). Ir al editor\n",
        "Cadena de ejemplo : \"Brilla, brilla, estrellita, ¡Cómo me pregunto qué eres! Por encima del mundo tan alto, Como un diamante en el cielo. Twinkle, twinkle, little star, How I wonder what you are\" Salida :\n",
        "\n",
        "```\n",
        "Twinkle, twinkle, little star,\n",
        "\tHow I wonder what you are! \n",
        "\t\tUp above the world so high,   \t\t\n",
        "\t\tLike a diamond in the sky. \n",
        "Twinkle, twinkle, little star, \n",
        "\tHow I wonder what you are\n",
        "```\n"
      ]
    },
    {
      "cell_type": "code",
      "metadata": {
        "id": "GP0ypkudDLmS"
      },
      "source": [
        ""
      ],
      "execution_count": null,
      "outputs": []
    },
    {
      "cell_type": "markdown",
      "metadata": {
        "id": "c76q1gmjDvlL"
      },
      "source": [
        "2. Escribe un programa en Python para mostrar la fecha y la hora que lees en tu pantalla."
      ]
    },
    {
      "cell_type": "code",
      "metadata": {
        "id": "rF0u7NTYD-Su"
      },
      "source": [
        ""
      ],
      "execution_count": null,
      "outputs": []
    },
    {
      "cell_type": "markdown",
      "metadata": {
        "id": "AtrUhVuEGb-6"
      },
      "source": [
        "3. Escribe un programa en Python para imprimir un conjunto que contenga todos los colores de la lista_de_colores_1 que no estén presentes en la lista_de_colores_2.\n",
        "\n",
        "Test Data :\n",
        "\n",
        "color_list_1 = set([\"White\", \"Black\", \"Red\"])\n",
        "\n",
        "color_list_2 = set([\"Red\", \"Green\"])\n",
        "\n",
        "Expected Output :\n",
        "{'Black', 'White'}"
      ]
    },
    {
      "cell_type": "code",
      "metadata": {
        "id": "2xhv7d4mHJQ_"
      },
      "source": [
        ""
      ],
      "execution_count": null,
      "outputs": []
    },
    {
      "cell_type": "markdown",
      "metadata": {
        "id": "bnID40XxKjLi"
      },
      "source": [
        "4. Escribir un programa en Python que acepte la base y la altura de un triángulo y calcule el área"
      ]
    },
    {
      "cell_type": "code",
      "metadata": {
        "id": "DnAtbzD8KmkK"
      },
      "source": [
        ""
      ],
      "execution_count": null,
      "outputs": []
    },
    {
      "cell_type": "markdown",
      "metadata": {
        "id": "ttl4isbLKrMK"
      },
      "source": [
        "5. Escribe un programa en Python que acepte el nombre y el apellido del usuario y los imprima en orden inverso con un espacio entre ellos."
      ]
    },
    {
      "cell_type": "code",
      "metadata": {
        "id": "OkurTMXAKuVi"
      },
      "source": [
        ""
      ],
      "execution_count": null,
      "outputs": []
    }
  ]
}